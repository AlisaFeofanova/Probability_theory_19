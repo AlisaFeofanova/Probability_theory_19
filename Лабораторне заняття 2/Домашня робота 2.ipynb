{
 "cells": [
  {
   "cell_type": "markdown",
   "metadata": {},
   "source": [
    "# Домашня робота №2"
   ]
  },
  {
   "cell_type": "markdown",
   "metadata": {},
   "source": [
    "## 1 Пароль\n",
    "Напишіть програму (функцію) для генерування випадкового пароля з такими обмеженнями:\n",
    "- пароль складається з рівно $10$ символів\n",
    "- пароль містить хоча б одну маленьку латинську літеру [a-z]\n",
    "- пароль містить хоча б одну велику латинську літеру [A-Z]\n",
    "- пароль містить хоча б одну цифру [0-9]\n",
    "- пароль містить хоча б один спеціальний символ [~!@#$%^&*()-_+=\\/{}[].,?<>:;]"
   ]
  },
  {
   "cell_type": "code",
   "execution_count": 3,
   "metadata": {},
   "outputs": [
    {
     "name": "stdout",
     "output_type": "stream",
     "text": [
      "HY@4%WpyoI\n"
     ]
    }
   ],
   "source": [
    "# Місце для Вашого коду\n",
    "import numpy as np\n",
    "\n",
    "\n",
    "low = list('abcdefghijklmnopqrstuvwxyz')\n",
    "high = list('ABCDEFGHIJKLMNOPQRSTUVWXYZ')\n",
    "numbers = list('0123456789')\n",
    "spec = list('~!@#$%^&*()-_+=/{}[].,?<>:;')\n",
    "\n",
    "password = [np.random.choice(low),np.random.choice(high),np.random.choice(numbers),np.random.choice(spec),\n",
    "             *list(np.random.choice(low + high + numbers + spec, 6))]\n",
    "\n",
    "np.random.shuffle(password)\n",
    "password = ''.join(password)\n",
    "\n",
    "print(password)\n"
   ]
  },
  {
   "cell_type": "markdown",
   "metadata": {},
   "source": [
    "## 2 Герби в ряд\n",
    "Реалізуйте функцію для обчислення емпіричної та теоретичної імовірностей випадіння $k$ гербів (HEADS) підряд у серії з $n$ підкидань чесної монетки. Підрахуйте відповідні ймовірності для таких параметрів:\n",
    "- $k = 2, n = 10, 50, 100, 500, 1000, 5000, 10000$\n",
    "- $k = 3, n = 10, 50, 100, 500, 1000, 5000, 10000$\n",
    "\n",
    "**Зауваження.** Нехай $k = 2, n = 10$ та маємо таку послідовність результатів підкидання монети: $\\{ H, T, H, H, H, H, T, T, H, T \\}$. Тоді матимемо $3$ випадки випадіння двох гербів підряд та емпіричну ймовірність такої події $1/3$."
   ]
  },
  {
   "cell_type": "code",
   "execution_count": 7,
   "metadata": {},
   "outputs": [
    {
     "name": "stdout",
     "output_type": "stream",
     "text": [
      "For k = 2, n = 10:\n",
      "Empirical probability of HEAD 0.2222222222222222\n",
      "Theoretical probability of HEAD is 0.25\n",
      "\n",
      "For k = 2, n = 50:\n",
      "Empirical probability of HEAD 0.24489795918367346\n",
      "Theoretical probability of HEAD is 0.25\n",
      "\n",
      "For k = 2, n = 100:\n",
      "Empirical probability of HEAD 0.30303030303030304\n",
      "Theoretical probability of HEAD is 0.25\n",
      "\n",
      "For k = 2, n = 500:\n",
      "Empirical probability of HEAD 0.2565130260521042\n",
      "Theoretical probability of HEAD is 0.25\n",
      "\n",
      "For k = 2, n = 1000:\n",
      "Empirical probability of HEAD 0.24924924924924924\n",
      "Theoretical probability of HEAD is 0.25\n",
      "\n",
      "For k = 2, n = 5000:\n",
      "Empirical probability of HEAD 0.2524504900980196\n",
      "Theoretical probability of HEAD is 0.25\n",
      "\n",
      "For k = 2, n = 10000:\n",
      "Empirical probability of HEAD 0.24972497249724973\n",
      "Theoretical probability of HEAD is 0.25\n",
      "\n",
      "For k = 3, n = 10:\n",
      "Empirical probability of HEAD 0.0\n",
      "Theoretical probability of HEAD is 0.125\n",
      "\n",
      "For k = 3, n = 50:\n",
      "Empirical probability of HEAD 0.14583333333333334\n",
      "Theoretical probability of HEAD is 0.125\n",
      "\n",
      "For k = 3, n = 100:\n",
      "Empirical probability of HEAD 0.01020408163265306\n",
      "Theoretical probability of HEAD is 0.125\n",
      "\n",
      "For k = 3, n = 500:\n",
      "Empirical probability of HEAD 0.1746987951807229\n",
      "Theoretical probability of HEAD is 0.125\n",
      "\n",
      "For k = 3, n = 1000:\n",
      "Empirical probability of HEAD 0.11923847695390781\n",
      "Theoretical probability of HEAD is 0.125\n",
      "\n",
      "For k = 3, n = 5000:\n",
      "Empirical probability of HEAD 0.12024809923969587\n",
      "Theoretical probability of HEAD is 0.125\n",
      "\n",
      "For k = 3, n = 10000:\n",
      "Empirical probability of HEAD 0.125125025005001\n",
      "Theoretical probability of HEAD is 0.125\n",
      "\n"
     ]
    }
   ],
   "source": [
    "# Місце для Вашого коду\n",
    "import numpy as np\n",
    "\n",
    "\n",
    "def prob_theor(n, k):\n",
    "    return 2**(n-k) / 2**n \n",
    "\n",
    "\n",
    "def prob_empir(n, k):\n",
    "    OMEGA = ['H', 'T']\n",
    "    omega = list(np.random.choice(OMEGA, n))\n",
    "    counter = 0\n",
    "    for i in range(n-k):\n",
    "        if omega[i:i+k].count('H') == len(omega[i:i+k]):\n",
    "            counter += 1\n",
    "    return counter/float(n - k + 1)\n",
    "\n",
    "\n",
    "for k in [2, 3]:\n",
    "    for n in [10,50,100,500,1000,5000,10000]:\n",
    "        print(\"For k = {}, n = {}:\\nEmpirical probability of HEAD {}\\nTheoretical probability of HEAD is {}\\n\".format(\n",
    "            k, n, prob_empir(n, k), prob_theor(n, k)))\n"
   ]
  },
  {
   "cell_type": "markdown",
   "metadata": {},
   "source": [
    "## 3 Найбільше число\n",
    "Реалізуйте функцію підрахунку точної (теоретичної) імовірності того, що максимальне число після $n$ кидків звичайного грального кубика дорівнює $x\\_max$, для таких параметрів:\n",
    "- $n = 3, x\\_max = 6$\n",
    "- $n = 2, x\\_max = 3$\n",
    "- $n = 3, x\\_max = 5$\n",
    "\n",
    "Тобто, якщо $X_i, i = 1, \\ldots, n$, - число на $i$-му кидку кубика, а $X = \\max\\limits_{1 \\leq i \\leq n} X_i$, то потрібно знайти ймовірність $\\textbf{P} \\left( X = x\\_max \\right)$.\n",
    "\n",
    "Підрахуйте також емпіричні ймовірності відповідних подій у випадку $10000$ симуляцій.\n",
    "\n",
    "**Зауваження.** Якщо введені параметри не мають сенсу, то повертати $0$.\n",
    "Тобто, якщо вводиться $x\\_max < 1$ або $x\\_max > 6$."
   ]
  },
  {
   "cell_type": "code",
   "execution_count": 11,
   "metadata": {},
   "outputs": [
    {
     "name": "stdout",
     "output_type": "stream",
     "text": [
      "For n = 3, x_max = 6:\n",
      " Empirical probability is 0.4159\n",
      " Theoretical probability is 0.4212962962962963\n",
      "\n",
      "For n = 2, x_max = 3:\n",
      " Empirical probability is 0.1418\n",
      " Theoretical probability is 0.1388888888888889\n",
      "\n",
      "For n = 3, x_max = 5:\n",
      " Empirical probability is 0.2859\n",
      " Theoretical probability is 0.28240740740740744\n",
      "\n"
     ]
    }
   ],
   "source": [
    "# Місце для Вашого коду\n",
    "import numpy as np\n",
    "\n",
    "\n",
    "def prob_theor(n, x_max):\n",
    "    if not(1 <= x_max <= 6):\n",
    "        return 0\n",
    "    return (x_max)**n/(6**n) - (x_max - 1)**n/(6**n)\n",
    "\n",
    "\n",
    "def prob_empir(n, x_max):\n",
    "    if not(1 <= x_max <= 6):\n",
    "        return 0\n",
    "    tests = 10000\n",
    "    K = [1, 2, 3, 4, 5, 6]\n",
    "    counter = 0\n",
    "    for i in range(tests):\n",
    "        omega = np.random.choice(K, n)\n",
    "        if max(omega) == x_max:\n",
    "            counter += 1\n",
    "    return counter/float(tests)\n",
    "\n",
    "\n",
    "def test(n, x_max):\n",
    "    print(\"For n = {}, x_max = {}:\\n Empirical probability is {}\\n Theoretical probability is {}\\n\"\n",
    "          .format(n, x_max, prob_empir(n, x_max), prob_theor(n, x_max)))\n",
    "\n",
    "    \n",
    "test(3, 6)\n",
    "test(2, 3)\n",
    "test(3, 5)\n"
   ]
  },
  {
   "cell_type": "markdown",
   "metadata": {},
   "source": [
    "## 4 Сума чисел\n",
    "Реалізуйте функцію підрахунку точної (теоретичної) імовірності того, що сума чисел після $n$ кидків звичайного грального кубика дорівнює $s$, для таких параметрів:\n",
    "- $n = 3, s = 13$\n",
    "- $n = 2, s = 5$\n",
    "- $n = 3, s = 7$\n",
    "\n",
    "Тобто, якщо $X_i, i = 1, \\ldots, n$, - число на $i$-му кидку кубика, а $X = \\sum\\limits_{i = 1}^{n} X_i$, то потрібно знайти ймовірність $\\textbf{P} \\left( X = s \\right)$.\n",
    "\n",
    "Підрахуйте також емпіричні ймовірності відповідних подій у випадку $10000$ симуляцій.\n",
    "\n",
    "**Зауваження.** Якщо введені параметри не мають сенсу, то повертати $0$.\n",
    "Наприклад, якщо при $n = 3$ вводиться $s < 3$ або $s > 18$."
   ]
  },
  {
   "cell_type": "code",
   "execution_count": 12,
   "metadata": {},
   "outputs": [
    {
     "name": "stdout",
     "output_type": "stream",
     "text": [
      "For n = 3, s = 13:\n",
      " Empirical probability is 0.1034\n",
      " Theoretical probability is 0.09722222222222222\n",
      "\n",
      "For n = 2, s = 5:\n",
      " Empirical probability is 0.1096\n",
      " Theoretical probability is 0.1111111111111111\n",
      "\n",
      "For n = 3, s = 7:\n",
      " Empirical probability is 0.0681\n",
      " Theoretical probability is 0.06944444444444445\n",
      "\n"
     ]
    }
   ],
   "source": [
    "# Місце для Вашого коду\n",
    "import numpy as np\n",
    "import itertools\n",
    "\n",
    "\n",
    "def prob_theor(n, s):\n",
    "    if not (n <= s <= 6 * n):\n",
    "        return 0\n",
    "    OMEGA = [1, 2, 3, 4, 5, 6]\n",
    "    omega = itertools.product(OMEGA, repeat=n)\n",
    "    return len(list(filter(lambda t: sum(t) == s, omega))) / float(6**n)\n",
    "    \n",
    "\n",
    "def prob_empir(n, s):\n",
    "    if not (n <= s <= n * 6):\n",
    "        return 0\n",
    "    tests = 10000\n",
    "    K = [1, 2, 3, 4, 5, 6]\n",
    "    counter = 0\n",
    "    for i in range(tests):\n",
    "        tosses = np.random.choice(K, n)\n",
    "        if sum(tosses) == s:\n",
    "            counter += 1\n",
    "    return counter/float(tests)\n",
    "\n",
    "\n",
    "def test(n, s):\n",
    "    print(\"For n = {}, s = {}:\\n Empirical probability is {}\\n Theoretical probability is {}\\n\"\n",
    "          .format(n, s, prob_empir(n, s),prob_theor(n, s)))\n",
    "\n",
    "    \n",
    "test(3, 13)\n",
    "test(2, 5)\n",
    "test(3, 7)\n"
   ]
  },
  {
   "cell_type": "code",
   "execution_count": null,
   "metadata": {},
   "outputs": [],
   "source": []
  }
 ],
 "metadata": {
  "kernelspec": {
   "display_name": "Python 3",
   "language": "python",
   "name": "python3"
  },
  "language_info": {
   "codemirror_mode": {
    "name": "ipython",
    "version": 3
   },
   "file_extension": ".py",
   "mimetype": "text/x-python",
   "name": "python",
   "nbconvert_exporter": "python",
   "pygments_lexer": "ipython3",
   "version": "3.7.1"
  }
 },
 "nbformat": 4,
 "nbformat_minor": 1
}
